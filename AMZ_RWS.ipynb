{
  "nbformat": 4,
  "nbformat_minor": 0,
  "metadata": {
    "colab": {
      "name": "AMZ-RWS.ipynb",
      "provenance": []
    },
    "kernelspec": {
      "name": "python3",
      "display_name": "Python 3"
    },
    "language_info": {
      "name": "python"
    }
  },
  "cells": [
    {
      "cell_type": "markdown",
      "source": [
        "# Amazon's Reviews Analysis"
      ],
      "metadata": {
        "id": "T8hy-InBUWJv"
      }
    },
    {
      "cell_type": "markdown",
      "source": [
        "## Data Collection"
      ],
      "metadata": {
        "id": "xVOg2q1CUcTR"
      }
    },
    {
      "cell_type": "markdown",
      "source": [
        "### Reviews Collection"
      ],
      "metadata": {
        "id": "Xfsv7xspX0gQ"
      }
    },
    {
      "cell_type": "markdown",
      "source": [
        "Import the required libraries"
      ],
      "metadata": {
        "id": "1ZLUrsFYUpZJ"
      }
    },
    {
      "cell_type": "code",
      "source": [
        "import requests \n",
        "import pandas as pd \n",
        "from bs4 import BeautifulSoup"
      ],
      "metadata": {
        "id": "MH6ewcR1Ub7F"
      },
      "execution_count": 1,
      "outputs": []
    },
    {
      "cell_type": "code",
      "source": [
        "url = 'https://www.amazon.it/Philips-hd2581-00-Tostapane-nero/product-reviews/B01N9XBDTI/ref=cm_cr_dp_d_show_all_btm?ie=UTF8&reviewerType=all_reviews&pageNumber=1'\n"
      ],
      "metadata": {
        "id": "rxHw04yAUalm"
      },
      "execution_count": 6,
      "outputs": []
    },
    {
      "cell_type": "code",
      "source": [
        "def get_soup(url):\n",
        "\n",
        "    result = requests.get(url)\n",
        "    content = result.text\n",
        "    soup = BeautifulSoup(content, 'lxml')\n",
        "    \n",
        "    return soup "
      ],
      "metadata": {
        "id": "-jkmEaAnUxuV"
      },
      "execution_count": 7,
      "outputs": []
    },
    {
      "cell_type": "code",
      "source": [
        "reviewlist = []"
      ],
      "metadata": {
        "id": "-yLoqOQaU-nK"
      },
      "execution_count": 8,
      "outputs": []
    },
    {
      "cell_type": "code",
      "source": [
        "# does not consider other languages reviews\n",
        "\n",
        "def get_reviews(soup):\n",
        "    #print(soup.title.text)\n",
        "    reviews = soup.find_all('div', {'data-hook': 'review'}) # returns a list\n",
        "    #print(soup.title.text) \n",
        "    try:\n",
        "        for item in reviews:    \n",
        "            review = {\n",
        "            'product' : soup.title.text.replace('Amazon.it:Recensioni clienti:', '') ,\n",
        "            'title' : item.find('a', {'data-hook': 'review-title'}).text.strip(),\n",
        "            #rating = item.find('i', {'data-hook': 'review-star-rating-view-point'})\n",
        "            'rating' : float(item.find('span', {'class': 'a-icon-alt'}).text.replace('su 5 stelle', '').replace(',', '.').strip()),\n",
        "            'data' : item.find('span', {'class' : 'a-size-base'}).text.replace('Recensito in Italia il ', '').strip(),\n",
        "            'body' : item.find('span', {'data-hook' : 'review-body'}).text.strip(),  #still to remove some data\n",
        "            }\n",
        "            \n",
        "            reviewlist.append(review)\n",
        "    except:\n",
        "        pass"
      ],
      "metadata": {
        "id": "p6EVWRRKU7FY"
      },
      "execution_count": 9,
      "outputs": []
    },
    {
      "cell_type": "code",
      "source": [
        "for x in range(1,10): # should be 999 but it is better to not go that further.\n",
        "    soup = get_soup(f'https://www.amazon.it/Philips-hd2581-00-Tostapane-nero/product-reviews/B01N9XBDTI/ref=cm_cr_getr_d_paging_btm_next_348?ie=UTF8&reviewerType=all_reviews&pageNumber={x}')\n",
        "    get_reviews(soup)\n",
        "    if not soup.find('li', {'class': 'a-disabled a-last'}):\n",
        "        pass\n",
        "    else:\n",
        "        break"
      ],
      "metadata": {
        "id": "8QVyrmsCVu_H"
      },
      "execution_count": 10,
      "outputs": []
    },
    {
      "cell_type": "code",
      "source": [
        "reviewlist"
      ],
      "metadata": {
        "colab": {
          "base_uri": "https://localhost:8080/"
        },
        "id": "BG3SeUGXV0-x",
        "outputId": "128b8d57-ca51-4c73-d042-b9ec208b2c13"
      },
      "execution_count": 11,
      "outputs": [
        {
          "output_type": "execute_result",
          "data": {
            "text/plain": [
              "[{'body': 'Il tostapane si comporta come deve. Le fette vengono tostate in maniera uniforme. Comodo con il tastino dello stop se singole interrompere prima la tostatura. Unico neo a mio avviso la mancanza di una spia e sarebbe stato più visibile una manopola con un indicatore di posizione colorato per una visualizzazione migliore. Per il resto ottimo acquisto a prezzo contenuto. Amazon al solito perfetta.',\n",
              "  'data': '12 agosto 2019',\n",
              "  'product': ' Philips Daily Collection \\u200eHD2581/90 Tostapane con 8 Impostazioni e Griglia Scaldabriosche Integrata, Nero',\n",
              "  'rating': 4.0,\n",
              "  'title': 'Soddisfatto!'},\n",
              " {'body': 'Nel complesso funziona bene ma fare toast è impossibile non li lancia fuori almeno che non si faccia con 1 fetta di prosciutto ed una fetta di 1 mm di spessore di formaggio.Va bene per le singole fette.Altrimenti consiglio quello con le pinze.',\n",
              "  'data': '8 dicembre 2021',\n",
              "  'product': ' Philips Daily Collection \\u200eHD2581/90 Tostapane con 8 Impostazioni e Griglia Scaldabriosche Integrata, Nero',\n",
              "  'rating': 3.0,\n",
              "  'title': 'Bello ma non da toast!'},\n",
              " {'body': 'Non avevo mai avuto un tostapane, è la svolta, meraviglioso!Tosta bene il pane, anche se per farlo più uniforme possibile io personalmente giro la fetta sottosopra a metà cottura per averlo ancora più omogeneo. Sopra essendo aperto scalda un pochino di meno.',\n",
              "  'data': '7 febbraio 2022',\n",
              "  'product': ' Philips Daily Collection \\u200eHD2581/90 Tostapane con 8 Impostazioni e Griglia Scaldabriosche Integrata, Nero',\n",
              "  'rating': 5.0,\n",
              "  'title': 'Meraviglioso'},\n",
              " {'body': \"Funziona molto bene per tostare fette di pane conservate a temperatura ambiente o appena estratte dal congelatore, in questo caso è molto utile l'apposita funzione sulla manopola di regolazione della temperatura. Molto comodo anche l'utilizzo dello scalda-brioche per intiepidire un panino o una brioche. In quest'ultimo caso va tenuto presente che la pulizia non è sempre agevole. Giudizio più che positivo per quanto riguarda le dimensioni compatte e l'estetica in generale.\",\n",
              "  'data': '26 gennaio 2022',\n",
              "  'product': ' Philips Daily Collection \\u200eHD2581/90 Tostapane con 8 Impostazioni e Griglia Scaldabriosche Integrata, Nero',\n",
              "  'rating': 5.0,\n",
              "  'title': 'Ottimo rapporto qualità/prezzo'},\n",
              " {'body': 'Prodotto conforme alla descrizione.Spedizione puntuale.Il prodotto è davvero molto bello a vedersi.Non pensavo fosse così utile, devi ammettere che fare colazione con un bel toas non è per niente male.Consigliato',\n",
              "  'data': '12 ottobre 2021',\n",
              "  'product': ' Philips Daily Collection \\u200eHD2581/90 Tostapane con 8 Impostazioni e Griglia Scaldabriosche Integrata, Nero',\n",
              "  'rating': 5.0,\n",
              "  'title': 'Mai più senza'},\n",
              " {'body': 'Tostapane eccellente. 8 livelli di potenza. Scalda brioche incorporato. Ha pure la funzione scongelamento. Ovviamente ci va tostato il pane. Niente toast farciti, o piadine o altro...solo fette di pane e funziona da 10!',\n",
              "  'data': '28 dicembre 2021',\n",
              "  'product': ' Philips Daily Collection \\u200eHD2581/90 Tostapane con 8 Impostazioni e Griglia Scaldabriosche Integrata, Nero',\n",
              "  'rating': 5.0,\n",
              "  'title': 'Perfetto'},\n",
              " {'body': \"Buon prodotto. Costo superiore alle altre marche, ma ne vale la pena. Le plastiche sono buone e l'estetica è curata. Comodo lo sportellino per la rimozione delle briciole. L'unica pecca è la qualità del metallo (è metallo?) all'interno del quale si infila il pane: si è macchiato è non si pulisce in nessun modo.\",\n",
              "  'data': '15 giugno 2020',\n",
              "  'product': ' Philips Daily Collection \\u200eHD2581/90 Tostapane con 8 Impostazioni e Griglia Scaldabriosche Integrata, Nero',\n",
              "  'rating': 4.0,\n",
              "  'title': 'Fa il suo dovere'},\n",
              " {'body': 'Mi ci trovo bene, ha anche la funzione per riscaldare ad es. brioches e cose così.  Esteticamente bellissimo. Si pulisce la parte in fondo facilmente. Brand garanzia di qualità. Soddisfacente.',\n",
              "  'data': '29 dicembre 2021',\n",
              "  'product': ' Philips Daily Collection \\u200eHD2581/90 Tostapane con 8 Impostazioni e Griglia Scaldabriosche Integrata, Nero',\n",
              "  'rating': 5.0,\n",
              "  'title': 'Bello'},\n",
              " {'body': 'Non facile da pulire nonostante il serbatoio delle briciole. Non avendo le pinze per inserire e togliere il tost si sporca tutto dentro di formaggio, ed impossibile Da pulire. Da usare solo come scalda pane ma non con panini/tost farciti.',\n",
              "  'data': '12 ottobre 2021',\n",
              "  'product': ' Philips Daily Collection \\u200eHD2581/90 Tostapane con 8 Impostazioni e Griglia Scaldabriosche Integrata, Nero',\n",
              "  'rating': 3.0,\n",
              "  'title': 'Buona qualità prezzo ma non comodo da pulire'},\n",
              " {'body': \"Sicuramente molto pratico sia per tostare le fette di panecarrè che per fare dei toast ripieni ma non troppo perché non avendo le pinze c'è il rischio che si aprino..ha un cassettino sotto per pulirlo...ma consiglio di fare attenzione se si usano sottilette ecc perché se scolano di sotto non sono accessibili tutte le parti per la pulizia\",\n",
              "  'data': '30 giugno 2021',\n",
              "  'product': ' Philips Daily Collection \\u200eHD2581/90 Tostapane con 8 Impostazioni e Griglia Scaldabriosche Integrata, Nero',\n",
              "  'rating': 4.0,\n",
              "  'title': 'Molto pratico'},\n",
              " {'body': \"Solo per toast non farciti, perché non entrano bene, e tra l'altro l'interno è difficile da pulire pertanto meglio non utilizzare farciture\",\n",
              "  'data': '11 gennaio 2022',\n",
              "  'product': ' Philips Daily Collection \\u200eHD2581/90 Tostapane con 8 Impostazioni e Griglia Scaldabriosche Integrata, Nero',\n",
              "  'rating': 1.0,\n",
              "  'title': 'Solo per toast non farciti'},\n",
              " {'body': 'Facile da usare, io lo uso solo per tostare le fette di pane per colazione quindi direi che è perfetto, non so però per i toast farciti.Consigliatissimo!!',\n",
              "  'data': '19 gennaio 2022',\n",
              "  'product': ' Philips Daily Collection \\u200eHD2581/90 Tostapane con 8 Impostazioni e Griglia Scaldabriosche Integrata, Nero',\n",
              "  'rating': 5.0,\n",
              "  'title': 'Ottimo acquisto!!!'},\n",
              " {'body': 'Il prodotto svolge egreggiente il suo compito cioè scaldare 2 fette di pane in maniera uniforme e tramite selettore si può an he impostare il gradi di riscaldamento.. Consigliato',\n",
              "  'data': '4 ottobre 2021',\n",
              "  'product': ' Philips Daily Collection \\u200eHD2581/90 Tostapane con 8 Impostazioni e Griglia Scaldabriosche Integrata, Nero',\n",
              "  'rating': 5.0,\n",
              "  'title': 'Semplice ed essenziale'},\n",
              " {'body': \"Credevo che una volta inserita la spina alla presa di corrente si accendesse e funzionasse. Ho regolato la temperatura, ho atteso un ora... le fette erano fredde come quando le avevo inserite. E' un prodotto da buttare... una schifezza!\",\n",
              "  'data': '27 ottobre 2021',\n",
              "  'product': ' Philips Daily Collection \\u200eHD2581/90 Tostapane con 8 Impostazioni e Griglia Scaldabriosche Integrata, Nero',\n",
              "  'rating': 1.0,\n",
              "  'title': 'Perché non funziona?'},\n",
              " {'body': 'Buon tostapane, lo uso giornalmente e mi trovo davvero bene. Bello da vedere è facile da utilizzare! Ottimo anche il rapporto qualità prezzo! Consigliato',\n",
              "  'data': '21 agosto 2021',\n",
              "  'product': ' Philips Daily Collection \\u200eHD2581/90 Tostapane con 8 Impostazioni e Griglia Scaldabriosche Integrata, Nero',\n",
              "  'rating': 5.0,\n",
              "  'title': 'Buon tostapane con funzione scalda brioche'},\n",
              " {'body': 'Anche se tutto in plastica, il suo dovere lo fa. Non pretendere che da solo intuisca il grado di doratura dei toast, è necessario fare delle prove.Ma nel complesso funziona bene.',\n",
              "  'data': '13 dicembre 2020',\n",
              "  'product': ' Philips Daily Collection \\u200eHD2581/90 Tostapane con 8 Impostazioni e Griglia Scaldabriosche Integrata, Nero',\n",
              "  'rating': 4.0,\n",
              "  'title': 'Tutto ok'},\n",
              " {'body': 'Tempi di consegna niente da dire, come al solito puntuali, purtroppo non sono soddisfatta del prodotto perché nonostante il vassoio raccogli briciole rimane troppa comunque troppo sporco che con il calore tende a bruciare i resti e di conseguenza fumo. Sapevo che non era dotato di pinze ma la molla non stringe abbastanza occorre un occorre un pane più spesso altrimenti la farcia tende a scivolare. Il tipo di cottura non è omogeneo da entrambi i lati. Messo in solaio.',\n",
              "  'data': '20 febbraio 2019',\n",
              "  'product': ' Philips Daily Collection \\u200eHD2581/90 Tostapane con 8 Impostazioni e Griglia Scaldabriosche Integrata, Nero',\n",
              "  'rating': 2.0,\n",
              "  'title': 'Non è funzionale'},\n",
              " {'body': \"Non sono molto soddisfatta dell'acquisto perché ho provato parecchie volte ma si è tostato solo un lato della fetta  non so se sia normale per l'apparecchio o se sia il mio difettoso.\",\n",
              "  'data': '2 novembre 2020',\n",
              "  'product': ' Philips Daily Collection \\u200eHD2581/90 Tostapane con 8 Impostazioni e Griglia Scaldabriosche Integrata, Nero',\n",
              "  'rating': 5.0,\n",
              "  'title': 'Tostapane philips'},\n",
              " {'body': 'Facilissimo da pulire, basta tirare il portellino per pulire il tostapane, dopo 2/3 tentativi si impara ad usarlo, ha lo scalda brioche, bello a vedersi sopra la cucina, un prodotto utile dal costo contenuto.',\n",
              "  'data': '5 gennaio 2022',\n",
              "  'product': ' Philips Daily Collection \\u200eHD2581/90 Tostapane con 8 Impostazioni e Griglia Scaldabriosche Integrata, Nero',\n",
              "  'rating': 5.0,\n",
              "  'title': 'Ottimo prodotto'},\n",
              " {'body': \"E' un classico tostapane che (almeno finora: utilizzato 3 volte) fa perfettamente il suo.Non ho particolari osservazioni negative da fare, direi che è tutto in regola.Se reggerà nel tempo, l'acquisto è ok.\",\n",
              "  'data': '3 febbraio 2022',\n",
              "  'product': ' Philips Daily Collection \\u200eHD2581/90 Tostapane con 8 Impostazioni e Griglia Scaldabriosche Integrata, Nero',\n",
              "  'rating': 5.0,\n",
              "  'title': 'Tostapane classico'},\n",
              " {'body': \"macchinetta nera di Philips, sono contento dell'acquisto, il toaster è facile da usare, fa fette tostate buone e croccanti, io e i coinquilini adorano questo piccolo amico a casa, sopratutto per la colazione.\",\n",
              "  'data': '20 maggio 2020',\n",
              "  'product': ' Philips Daily Collection \\u200eHD2581/90 Tostapane con 8 Impostazioni e Griglia Scaldabriosche Integrata, Nero',\n",
              "  'rating': 5.0,\n",
              "  'title': 'bello e utile'},\n",
              " {'body': 'Niente da dire, fa il suo lavoro. Sicuramente non è velocissimo ma in linea con altri tostapane',\n",
              "  'data': '24 novembre 2021',\n",
              "  'product': ' Philips Daily Collection \\u200eHD2581/90 Tostapane con 8 Impostazioni e Griglia Scaldabriosche Integrata, Nero',\n",
              "  'rating': 4.0,\n",
              "  'title': 'Buono'},\n",
              " {'body': 'Ottimo tostapane di buonissima qualità.Molto carino il design.DImensioni giuste, non ingombrante.Comoda la doppia funzione tostapane e scaldabrioche.Consigliato',\n",
              "  'data': '5 gennaio 2019',\n",
              "  'product': ' Philips Daily Collection \\u200eHD2581/90 Tostapane con 8 Impostazioni e Griglia Scaldabriosche Integrata, Nero',\n",
              "  'rating': 5.0,\n",
              "  'title': 'Ottimo Tostapane'},\n",
              " {'body': \"Tosta il pane benissimo ed inoltre è possibile riscaldare i cornetti grazie all'apposito sistema di asticelle\",\n",
              "  'data': '12 ottobre 2021',\n",
              "  'product': ' Philips Daily Collection \\u200eHD2581/90 Tostapane con 8 Impostazioni e Griglia Scaldabriosche Integrata, Nero',\n",
              "  'rating': 5.0,\n",
              "  'title': 'Eccezionale'},\n",
              " {'body': 'Cercavo un tostapane che facesse anche i toast... troppo strette le pinze. Restituito.',\n",
              "  'data': '19 gennaio 2022',\n",
              "  'product': ' Philips Daily Collection \\u200eHD2581/90 Tostapane con 8 Impostazioni e Griglia Scaldabriosche Integrata, Nero',\n",
              "  'rating': 3.0,\n",
              "  'title': 'Bello ma poco utile'},\n",
              " {'body': 'Un buon compromesso qualità/prezzo. Comoda la griglia superiore per trattenere le fette una volta pronte.Semplice da usare, va bene per tostare fette singole ma per esempio troppo piccolo per in toast.Comunque soddisfatta dell acquisto',\n",
              "  'data': '24 giugno 2020',\n",
              "  'product': ' Philips Daily Collection \\u200eHD2581/90 Tostapane con 8 Impostazioni e Griglia Scaldabriosche Integrata, Nero',\n",
              "  'rating': 3.0,\n",
              "  'title': 'Qualità rapportata al prezzo'},\n",
              " {'body': 'Tostatura perfetta, il pane non si secca, rimane croccante.Semplicissimo da pulire',\n",
              "  'data': '8 novembre 2021',\n",
              "  'product': ' Philips Daily Collection \\u200eHD2581/90 Tostapane con 8 Impostazioni e Griglia Scaldabriosche Integrata, Nero',\n",
              "  'rating': 5.0,\n",
              "  'title': 'Semplice e compatto'},\n",
              " {'body': 'Ottimo prodotto dallo stile moderno e poco ingombrante. Funziona perfettamente, le fette sono tostate in maniera omogenea. Acquisto consigliato',\n",
              "  'data': '31 gennaio 2021',\n",
              "  'product': ' Philips Daily Collection \\u200eHD2581/90 Tostapane con 8 Impostazioni e Griglia Scaldabriosche Integrata, Nero',\n",
              "  'rating': 5.0,\n",
              "  'title': 'Consigliato'},\n",
              " {'body': 'Pratico. Tosta velocemente.È possibile scaldare anche i cornetti e  sono buonissimi',\n",
              "  'data': '11 settembre 2021',\n",
              "  'product': ' Philips Daily Collection \\u200eHD2581/90 Tostapane con 8 Impostazioni e Griglia Scaldabriosche Integrata, Nero',\n",
              "  'rating': 5.0,\n",
              "  'title': 'Consigliato'},\n",
              " {'body': 'Ottimo tostapane, efficiente, tutte le funzioni vanno benissimo. Rapporto qualità prezzo eccellente. Molto bello anche da vedere',\n",
              "  'data': '12 novembre 2020',\n",
              "  'product': ' Philips Daily Collection \\u200eHD2581/90 Tostapane con 8 Impostazioni e Griglia Scaldabriosche Integrata, Nero',\n",
              "  'rating': 5.0,\n",
              "  'title': 'Ottimo tostapane'}]"
            ]
          },
          "metadata": {},
          "execution_count": 11
        }
      ]
    },
    {
      "cell_type": "markdown",
      "source": [
        "Create the dataframe"
      ],
      "metadata": {
        "id": "yoAXeN7IXbuE"
      }
    },
    {
      "cell_type": "code",
      "source": [
        "df = pd.DataFrame(reviewlist)"
      ],
      "metadata": {
        "id": "Jp6qA7_sXbDR"
      },
      "execution_count": 12,
      "outputs": []
    },
    {
      "cell_type": "code",
      "source": [
        "df"
      ],
      "metadata": {
        "colab": {
          "base_uri": "https://localhost:8080/",
          "height": 989
        },
        "id": "ndzkr53EXeAc",
        "outputId": "f28fb09a-12c0-44d5-be3f-62449e587f2f"
      },
      "execution_count": 13,
      "outputs": [
        {
          "output_type": "execute_result",
          "data": {
            "text/plain": [
              "                                              product  \\\n",
              "0    Philips Daily Collection ‎HD2581/90 Tostapane...   \n",
              "1    Philips Daily Collection ‎HD2581/90 Tostapane...   \n",
              "2    Philips Daily Collection ‎HD2581/90 Tostapane...   \n",
              "3    Philips Daily Collection ‎HD2581/90 Tostapane...   \n",
              "4    Philips Daily Collection ‎HD2581/90 Tostapane...   \n",
              "5    Philips Daily Collection ‎HD2581/90 Tostapane...   \n",
              "6    Philips Daily Collection ‎HD2581/90 Tostapane...   \n",
              "7    Philips Daily Collection ‎HD2581/90 Tostapane...   \n",
              "8    Philips Daily Collection ‎HD2581/90 Tostapane...   \n",
              "9    Philips Daily Collection ‎HD2581/90 Tostapane...   \n",
              "10   Philips Daily Collection ‎HD2581/90 Tostapane...   \n",
              "11   Philips Daily Collection ‎HD2581/90 Tostapane...   \n",
              "12   Philips Daily Collection ‎HD2581/90 Tostapane...   \n",
              "13   Philips Daily Collection ‎HD2581/90 Tostapane...   \n",
              "14   Philips Daily Collection ‎HD2581/90 Tostapane...   \n",
              "15   Philips Daily Collection ‎HD2581/90 Tostapane...   \n",
              "16   Philips Daily Collection ‎HD2581/90 Tostapane...   \n",
              "17   Philips Daily Collection ‎HD2581/90 Tostapane...   \n",
              "18   Philips Daily Collection ‎HD2581/90 Tostapane...   \n",
              "19   Philips Daily Collection ‎HD2581/90 Tostapane...   \n",
              "20   Philips Daily Collection ‎HD2581/90 Tostapane...   \n",
              "21   Philips Daily Collection ‎HD2581/90 Tostapane...   \n",
              "22   Philips Daily Collection ‎HD2581/90 Tostapane...   \n",
              "23   Philips Daily Collection ‎HD2581/90 Tostapane...   \n",
              "24   Philips Daily Collection ‎HD2581/90 Tostapane...   \n",
              "25   Philips Daily Collection ‎HD2581/90 Tostapane...   \n",
              "26   Philips Daily Collection ‎HD2581/90 Tostapane...   \n",
              "27   Philips Daily Collection ‎HD2581/90 Tostapane...   \n",
              "28   Philips Daily Collection ‎HD2581/90 Tostapane...   \n",
              "29   Philips Daily Collection ‎HD2581/90 Tostapane...   \n",
              "\n",
              "                                           title  rating               data  \\\n",
              "0                                   Soddisfatto!     4.0     12 agosto 2019   \n",
              "1                         Bello ma non da toast!     3.0    8 dicembre 2021   \n",
              "2                                   Meraviglioso     5.0    7 febbraio 2022   \n",
              "3                 Ottimo rapporto qualità/prezzo     5.0    26 gennaio 2022   \n",
              "4                                  Mai più senza     5.0    12 ottobre 2021   \n",
              "5                                       Perfetto     5.0   28 dicembre 2021   \n",
              "6                               Fa il suo dovere     4.0     15 giugno 2020   \n",
              "7                                          Bello     5.0   29 dicembre 2021   \n",
              "8   Buona qualità prezzo ma non comodo da pulire     3.0    12 ottobre 2021   \n",
              "9                                  Molto pratico     4.0     30 giugno 2021   \n",
              "10                    Solo per toast non farciti     1.0    11 gennaio 2022   \n",
              "11                            Ottimo acquisto!!!     5.0    19 gennaio 2022   \n",
              "12                        Semplice ed essenziale     5.0     4 ottobre 2021   \n",
              "13                          Perché non funziona?     1.0    27 ottobre 2021   \n",
              "14    Buon tostapane con funzione scalda brioche     5.0     21 agosto 2021   \n",
              "15                                      Tutto ok     4.0   13 dicembre 2020   \n",
              "16                              Non è funzionale     2.0   20 febbraio 2019   \n",
              "17                             Tostapane philips     5.0    2 novembre 2020   \n",
              "18                               Ottimo prodotto     5.0     5 gennaio 2022   \n",
              "19                            Tostapane classico     5.0    3 febbraio 2022   \n",
              "20                                 bello e utile     5.0     20 maggio 2020   \n",
              "21                                         Buono     4.0   24 novembre 2021   \n",
              "22                              Ottimo Tostapane     5.0     5 gennaio 2019   \n",
              "23                                   Eccezionale     5.0    12 ottobre 2021   \n",
              "24                           Bello ma poco utile     3.0    19 gennaio 2022   \n",
              "25                  Qualità rapportata al prezzo     3.0     24 giugno 2020   \n",
              "26                           Semplice e compatto     5.0    8 novembre 2021   \n",
              "27                                   Consigliato     5.0    31 gennaio 2021   \n",
              "28                                   Consigliato     5.0  11 settembre 2021   \n",
              "29                              Ottimo tostapane     5.0   12 novembre 2020   \n",
              "\n",
              "                                                 body  \n",
              "0   Il tostapane si comporta come deve. Le fette v...  \n",
              "1   Nel complesso funziona bene ma fare toast è im...  \n",
              "2   Non avevo mai avuto un tostapane, è la svolta,...  \n",
              "3   Funziona molto bene per tostare fette di pane ...  \n",
              "4   Prodotto conforme alla descrizione.Spedizione ...  \n",
              "5   Tostapane eccellente. 8 livelli di potenza. Sc...  \n",
              "6   Buon prodotto. Costo superiore alle altre marc...  \n",
              "7   Mi ci trovo bene, ha anche la funzione per ris...  \n",
              "8   Non facile da pulire nonostante il serbatoio d...  \n",
              "9   Sicuramente molto pratico sia per tostare le f...  \n",
              "10  Solo per toast non farciti, perché non entrano...  \n",
              "11  Facile da usare, io lo uso solo per tostare le...  \n",
              "12  Il prodotto svolge egreggiente il suo compito ...  \n",
              "13  Credevo che una volta inserita la spina alla p...  \n",
              "14  Buon tostapane, lo uso giornalmente e mi trovo...  \n",
              "15  Anche se tutto in plastica, il suo dovere lo f...  \n",
              "16  Tempi di consegna niente da dire, come al soli...  \n",
              "17  Non sono molto soddisfatta dell'acquisto perch...  \n",
              "18  Facilissimo da pulire, basta tirare il portell...  \n",
              "19  E' un classico tostapane che (almeno finora: u...  \n",
              "20  macchinetta nera di Philips, sono contento del...  \n",
              "21  Niente da dire, fa il suo lavoro. Sicuramente ...  \n",
              "22  Ottimo tostapane di buonissima qualità.Molto c...  \n",
              "23  Tosta il pane benissimo ed inoltre è possibile...  \n",
              "24  Cercavo un tostapane che facesse anche i toast...  \n",
              "25  Un buon compromesso qualità/prezzo. Comoda la ...  \n",
              "26  Tostatura perfetta, il pane non si secca, rima...  \n",
              "27  Ottimo prodotto dallo stile moderno e poco ing...  \n",
              "28  Pratico. Tosta velocemente.È possibile scaldar...  \n",
              "29  Ottimo tostapane, efficiente, tutte le funzion...  "
            ],
            "text/html": [
              "\n",
              "  <div id=\"df-cca8de0d-89ee-4c65-83a0-4e011cb5d5a7\">\n",
              "    <div class=\"colab-df-container\">\n",
              "      <div>\n",
              "<style scoped>\n",
              "    .dataframe tbody tr th:only-of-type {\n",
              "        vertical-align: middle;\n",
              "    }\n",
              "\n",
              "    .dataframe tbody tr th {\n",
              "        vertical-align: top;\n",
              "    }\n",
              "\n",
              "    .dataframe thead th {\n",
              "        text-align: right;\n",
              "    }\n",
              "</style>\n",
              "<table border=\"1\" class=\"dataframe\">\n",
              "  <thead>\n",
              "    <tr style=\"text-align: right;\">\n",
              "      <th></th>\n",
              "      <th>product</th>\n",
              "      <th>title</th>\n",
              "      <th>rating</th>\n",
              "      <th>data</th>\n",
              "      <th>body</th>\n",
              "    </tr>\n",
              "  </thead>\n",
              "  <tbody>\n",
              "    <tr>\n",
              "      <th>0</th>\n",
              "      <td>Philips Daily Collection ‎HD2581/90 Tostapane...</td>\n",
              "      <td>Soddisfatto!</td>\n",
              "      <td>4.0</td>\n",
              "      <td>12 agosto 2019</td>\n",
              "      <td>Il tostapane si comporta come deve. Le fette v...</td>\n",
              "    </tr>\n",
              "    <tr>\n",
              "      <th>1</th>\n",
              "      <td>Philips Daily Collection ‎HD2581/90 Tostapane...</td>\n",
              "      <td>Bello ma non da toast!</td>\n",
              "      <td>3.0</td>\n",
              "      <td>8 dicembre 2021</td>\n",
              "      <td>Nel complesso funziona bene ma fare toast è im...</td>\n",
              "    </tr>\n",
              "    <tr>\n",
              "      <th>2</th>\n",
              "      <td>Philips Daily Collection ‎HD2581/90 Tostapane...</td>\n",
              "      <td>Meraviglioso</td>\n",
              "      <td>5.0</td>\n",
              "      <td>7 febbraio 2022</td>\n",
              "      <td>Non avevo mai avuto un tostapane, è la svolta,...</td>\n",
              "    </tr>\n",
              "    <tr>\n",
              "      <th>3</th>\n",
              "      <td>Philips Daily Collection ‎HD2581/90 Tostapane...</td>\n",
              "      <td>Ottimo rapporto qualità/prezzo</td>\n",
              "      <td>5.0</td>\n",
              "      <td>26 gennaio 2022</td>\n",
              "      <td>Funziona molto bene per tostare fette di pane ...</td>\n",
              "    </tr>\n",
              "    <tr>\n",
              "      <th>4</th>\n",
              "      <td>Philips Daily Collection ‎HD2581/90 Tostapane...</td>\n",
              "      <td>Mai più senza</td>\n",
              "      <td>5.0</td>\n",
              "      <td>12 ottobre 2021</td>\n",
              "      <td>Prodotto conforme alla descrizione.Spedizione ...</td>\n",
              "    </tr>\n",
              "    <tr>\n",
              "      <th>5</th>\n",
              "      <td>Philips Daily Collection ‎HD2581/90 Tostapane...</td>\n",
              "      <td>Perfetto</td>\n",
              "      <td>5.0</td>\n",
              "      <td>28 dicembre 2021</td>\n",
              "      <td>Tostapane eccellente. 8 livelli di potenza. Sc...</td>\n",
              "    </tr>\n",
              "    <tr>\n",
              "      <th>6</th>\n",
              "      <td>Philips Daily Collection ‎HD2581/90 Tostapane...</td>\n",
              "      <td>Fa il suo dovere</td>\n",
              "      <td>4.0</td>\n",
              "      <td>15 giugno 2020</td>\n",
              "      <td>Buon prodotto. Costo superiore alle altre marc...</td>\n",
              "    </tr>\n",
              "    <tr>\n",
              "      <th>7</th>\n",
              "      <td>Philips Daily Collection ‎HD2581/90 Tostapane...</td>\n",
              "      <td>Bello</td>\n",
              "      <td>5.0</td>\n",
              "      <td>29 dicembre 2021</td>\n",
              "      <td>Mi ci trovo bene, ha anche la funzione per ris...</td>\n",
              "    </tr>\n",
              "    <tr>\n",
              "      <th>8</th>\n",
              "      <td>Philips Daily Collection ‎HD2581/90 Tostapane...</td>\n",
              "      <td>Buona qualità prezzo ma non comodo da pulire</td>\n",
              "      <td>3.0</td>\n",
              "      <td>12 ottobre 2021</td>\n",
              "      <td>Non facile da pulire nonostante il serbatoio d...</td>\n",
              "    </tr>\n",
              "    <tr>\n",
              "      <th>9</th>\n",
              "      <td>Philips Daily Collection ‎HD2581/90 Tostapane...</td>\n",
              "      <td>Molto pratico</td>\n",
              "      <td>4.0</td>\n",
              "      <td>30 giugno 2021</td>\n",
              "      <td>Sicuramente molto pratico sia per tostare le f...</td>\n",
              "    </tr>\n",
              "    <tr>\n",
              "      <th>10</th>\n",
              "      <td>Philips Daily Collection ‎HD2581/90 Tostapane...</td>\n",
              "      <td>Solo per toast non farciti</td>\n",
              "      <td>1.0</td>\n",
              "      <td>11 gennaio 2022</td>\n",
              "      <td>Solo per toast non farciti, perché non entrano...</td>\n",
              "    </tr>\n",
              "    <tr>\n",
              "      <th>11</th>\n",
              "      <td>Philips Daily Collection ‎HD2581/90 Tostapane...</td>\n",
              "      <td>Ottimo acquisto!!!</td>\n",
              "      <td>5.0</td>\n",
              "      <td>19 gennaio 2022</td>\n",
              "      <td>Facile da usare, io lo uso solo per tostare le...</td>\n",
              "    </tr>\n",
              "    <tr>\n",
              "      <th>12</th>\n",
              "      <td>Philips Daily Collection ‎HD2581/90 Tostapane...</td>\n",
              "      <td>Semplice ed essenziale</td>\n",
              "      <td>5.0</td>\n",
              "      <td>4 ottobre 2021</td>\n",
              "      <td>Il prodotto svolge egreggiente il suo compito ...</td>\n",
              "    </tr>\n",
              "    <tr>\n",
              "      <th>13</th>\n",
              "      <td>Philips Daily Collection ‎HD2581/90 Tostapane...</td>\n",
              "      <td>Perché non funziona?</td>\n",
              "      <td>1.0</td>\n",
              "      <td>27 ottobre 2021</td>\n",
              "      <td>Credevo che una volta inserita la spina alla p...</td>\n",
              "    </tr>\n",
              "    <tr>\n",
              "      <th>14</th>\n",
              "      <td>Philips Daily Collection ‎HD2581/90 Tostapane...</td>\n",
              "      <td>Buon tostapane con funzione scalda brioche</td>\n",
              "      <td>5.0</td>\n",
              "      <td>21 agosto 2021</td>\n",
              "      <td>Buon tostapane, lo uso giornalmente e mi trovo...</td>\n",
              "    </tr>\n",
              "    <tr>\n",
              "      <th>15</th>\n",
              "      <td>Philips Daily Collection ‎HD2581/90 Tostapane...</td>\n",
              "      <td>Tutto ok</td>\n",
              "      <td>4.0</td>\n",
              "      <td>13 dicembre 2020</td>\n",
              "      <td>Anche se tutto in plastica, il suo dovere lo f...</td>\n",
              "    </tr>\n",
              "    <tr>\n",
              "      <th>16</th>\n",
              "      <td>Philips Daily Collection ‎HD2581/90 Tostapane...</td>\n",
              "      <td>Non è funzionale</td>\n",
              "      <td>2.0</td>\n",
              "      <td>20 febbraio 2019</td>\n",
              "      <td>Tempi di consegna niente da dire, come al soli...</td>\n",
              "    </tr>\n",
              "    <tr>\n",
              "      <th>17</th>\n",
              "      <td>Philips Daily Collection ‎HD2581/90 Tostapane...</td>\n",
              "      <td>Tostapane philips</td>\n",
              "      <td>5.0</td>\n",
              "      <td>2 novembre 2020</td>\n",
              "      <td>Non sono molto soddisfatta dell'acquisto perch...</td>\n",
              "    </tr>\n",
              "    <tr>\n",
              "      <th>18</th>\n",
              "      <td>Philips Daily Collection ‎HD2581/90 Tostapane...</td>\n",
              "      <td>Ottimo prodotto</td>\n",
              "      <td>5.0</td>\n",
              "      <td>5 gennaio 2022</td>\n",
              "      <td>Facilissimo da pulire, basta tirare il portell...</td>\n",
              "    </tr>\n",
              "    <tr>\n",
              "      <th>19</th>\n",
              "      <td>Philips Daily Collection ‎HD2581/90 Tostapane...</td>\n",
              "      <td>Tostapane classico</td>\n",
              "      <td>5.0</td>\n",
              "      <td>3 febbraio 2022</td>\n",
              "      <td>E' un classico tostapane che (almeno finora: u...</td>\n",
              "    </tr>\n",
              "    <tr>\n",
              "      <th>20</th>\n",
              "      <td>Philips Daily Collection ‎HD2581/90 Tostapane...</td>\n",
              "      <td>bello e utile</td>\n",
              "      <td>5.0</td>\n",
              "      <td>20 maggio 2020</td>\n",
              "      <td>macchinetta nera di Philips, sono contento del...</td>\n",
              "    </tr>\n",
              "    <tr>\n",
              "      <th>21</th>\n",
              "      <td>Philips Daily Collection ‎HD2581/90 Tostapane...</td>\n",
              "      <td>Buono</td>\n",
              "      <td>4.0</td>\n",
              "      <td>24 novembre 2021</td>\n",
              "      <td>Niente da dire, fa il suo lavoro. Sicuramente ...</td>\n",
              "    </tr>\n",
              "    <tr>\n",
              "      <th>22</th>\n",
              "      <td>Philips Daily Collection ‎HD2581/90 Tostapane...</td>\n",
              "      <td>Ottimo Tostapane</td>\n",
              "      <td>5.0</td>\n",
              "      <td>5 gennaio 2019</td>\n",
              "      <td>Ottimo tostapane di buonissima qualità.Molto c...</td>\n",
              "    </tr>\n",
              "    <tr>\n",
              "      <th>23</th>\n",
              "      <td>Philips Daily Collection ‎HD2581/90 Tostapane...</td>\n",
              "      <td>Eccezionale</td>\n",
              "      <td>5.0</td>\n",
              "      <td>12 ottobre 2021</td>\n",
              "      <td>Tosta il pane benissimo ed inoltre è possibile...</td>\n",
              "    </tr>\n",
              "    <tr>\n",
              "      <th>24</th>\n",
              "      <td>Philips Daily Collection ‎HD2581/90 Tostapane...</td>\n",
              "      <td>Bello ma poco utile</td>\n",
              "      <td>3.0</td>\n",
              "      <td>19 gennaio 2022</td>\n",
              "      <td>Cercavo un tostapane che facesse anche i toast...</td>\n",
              "    </tr>\n",
              "    <tr>\n",
              "      <th>25</th>\n",
              "      <td>Philips Daily Collection ‎HD2581/90 Tostapane...</td>\n",
              "      <td>Qualità rapportata al prezzo</td>\n",
              "      <td>3.0</td>\n",
              "      <td>24 giugno 2020</td>\n",
              "      <td>Un buon compromesso qualità/prezzo. Comoda la ...</td>\n",
              "    </tr>\n",
              "    <tr>\n",
              "      <th>26</th>\n",
              "      <td>Philips Daily Collection ‎HD2581/90 Tostapane...</td>\n",
              "      <td>Semplice e compatto</td>\n",
              "      <td>5.0</td>\n",
              "      <td>8 novembre 2021</td>\n",
              "      <td>Tostatura perfetta, il pane non si secca, rima...</td>\n",
              "    </tr>\n",
              "    <tr>\n",
              "      <th>27</th>\n",
              "      <td>Philips Daily Collection ‎HD2581/90 Tostapane...</td>\n",
              "      <td>Consigliato</td>\n",
              "      <td>5.0</td>\n",
              "      <td>31 gennaio 2021</td>\n",
              "      <td>Ottimo prodotto dallo stile moderno e poco ing...</td>\n",
              "    </tr>\n",
              "    <tr>\n",
              "      <th>28</th>\n",
              "      <td>Philips Daily Collection ‎HD2581/90 Tostapane...</td>\n",
              "      <td>Consigliato</td>\n",
              "      <td>5.0</td>\n",
              "      <td>11 settembre 2021</td>\n",
              "      <td>Pratico. Tosta velocemente.È possibile scaldar...</td>\n",
              "    </tr>\n",
              "    <tr>\n",
              "      <th>29</th>\n",
              "      <td>Philips Daily Collection ‎HD2581/90 Tostapane...</td>\n",
              "      <td>Ottimo tostapane</td>\n",
              "      <td>5.0</td>\n",
              "      <td>12 novembre 2020</td>\n",
              "      <td>Ottimo tostapane, efficiente, tutte le funzion...</td>\n",
              "    </tr>\n",
              "  </tbody>\n",
              "</table>\n",
              "</div>\n",
              "      <button class=\"colab-df-convert\" onclick=\"convertToInteractive('df-cca8de0d-89ee-4c65-83a0-4e011cb5d5a7')\"\n",
              "              title=\"Convert this dataframe to an interactive table.\"\n",
              "              style=\"display:none;\">\n",
              "        \n",
              "  <svg xmlns=\"http://www.w3.org/2000/svg\" height=\"24px\"viewBox=\"0 0 24 24\"\n",
              "       width=\"24px\">\n",
              "    <path d=\"M0 0h24v24H0V0z\" fill=\"none\"/>\n",
              "    <path d=\"M18.56 5.44l.94 2.06.94-2.06 2.06-.94-2.06-.94-.94-2.06-.94 2.06-2.06.94zm-11 1L8.5 8.5l.94-2.06 2.06-.94-2.06-.94L8.5 2.5l-.94 2.06-2.06.94zm10 10l.94 2.06.94-2.06 2.06-.94-2.06-.94-.94-2.06-.94 2.06-2.06.94z\"/><path d=\"M17.41 7.96l-1.37-1.37c-.4-.4-.92-.59-1.43-.59-.52 0-1.04.2-1.43.59L10.3 9.45l-7.72 7.72c-.78.78-.78 2.05 0 2.83L4 21.41c.39.39.9.59 1.41.59.51 0 1.02-.2 1.41-.59l7.78-7.78 2.81-2.81c.8-.78.8-2.07 0-2.86zM5.41 20L4 18.59l7.72-7.72 1.47 1.35L5.41 20z\"/>\n",
              "  </svg>\n",
              "      </button>\n",
              "      \n",
              "  <style>\n",
              "    .colab-df-container {\n",
              "      display:flex;\n",
              "      flex-wrap:wrap;\n",
              "      gap: 12px;\n",
              "    }\n",
              "\n",
              "    .colab-df-convert {\n",
              "      background-color: #E8F0FE;\n",
              "      border: none;\n",
              "      border-radius: 50%;\n",
              "      cursor: pointer;\n",
              "      display: none;\n",
              "      fill: #1967D2;\n",
              "      height: 32px;\n",
              "      padding: 0 0 0 0;\n",
              "      width: 32px;\n",
              "    }\n",
              "\n",
              "    .colab-df-convert:hover {\n",
              "      background-color: #E2EBFA;\n",
              "      box-shadow: 0px 1px 2px rgba(60, 64, 67, 0.3), 0px 1px 3px 1px rgba(60, 64, 67, 0.15);\n",
              "      fill: #174EA6;\n",
              "    }\n",
              "\n",
              "    [theme=dark] .colab-df-convert {\n",
              "      background-color: #3B4455;\n",
              "      fill: #D2E3FC;\n",
              "    }\n",
              "\n",
              "    [theme=dark] .colab-df-convert:hover {\n",
              "      background-color: #434B5C;\n",
              "      box-shadow: 0px 1px 3px 1px rgba(0, 0, 0, 0.15);\n",
              "      filter: drop-shadow(0px 1px 2px rgba(0, 0, 0, 0.3));\n",
              "      fill: #FFFFFF;\n",
              "    }\n",
              "  </style>\n",
              "\n",
              "      <script>\n",
              "        const buttonEl =\n",
              "          document.querySelector('#df-cca8de0d-89ee-4c65-83a0-4e011cb5d5a7 button.colab-df-convert');\n",
              "        buttonEl.style.display =\n",
              "          google.colab.kernel.accessAllowed ? 'block' : 'none';\n",
              "\n",
              "        async function convertToInteractive(key) {\n",
              "          const element = document.querySelector('#df-cca8de0d-89ee-4c65-83a0-4e011cb5d5a7');\n",
              "          const dataTable =\n",
              "            await google.colab.kernel.invokeFunction('convertToInteractive',\n",
              "                                                     [key], {});\n",
              "          if (!dataTable) return;\n",
              "\n",
              "          const docLinkHtml = 'Like what you see? Visit the ' +\n",
              "            '<a target=\"_blank\" href=https://colab.research.google.com/notebooks/data_table.ipynb>data table notebook</a>'\n",
              "            + ' to learn more about interactive tables.';\n",
              "          element.innerHTML = '';\n",
              "          dataTable['output_type'] = 'display_data';\n",
              "          await google.colab.output.renderOutput(dataTable, element);\n",
              "          const docLink = document.createElement('div');\n",
              "          docLink.innerHTML = docLinkHtml;\n",
              "          element.appendChild(docLink);\n",
              "        }\n",
              "      </script>\n",
              "    </div>\n",
              "  </div>\n",
              "  "
            ]
          },
          "metadata": {},
          "execution_count": 13
        }
      ]
    },
    {
      "cell_type": "markdown",
      "source": [
        "## Amazon Product Reviews Sentiment Analysis with Python\n",
        "In this notebook will be exploted three different approaches to perform sentiment analysis on Amazon reviews.\n",
        "\n",
        "* Firstly, will be conducted an analysis aimed to understand which is the feeling that occurs more frequently from the customers' reviews.\n",
        "* Secondly, will be performed a Logistic regression classification aimed to detect from the reviews if the customers are satisfied or not\n",
        "* Thirdly, will be created a world cloud plot both for positive reviews and negatives ones. This kind of plot is useful to make a qualitative analysis on the most occuring words used in the reviews."
      ],
      "metadata": {
        "id": "oEt-DtI9ZoBk"
      }
    },
    {
      "cell_type": "markdown",
      "source": [
        "### 1st Approach"
      ],
      "metadata": {
        "id": "0vuuoM6XZvCc"
      }
    },
    {
      "cell_type": "code",
      "source": [
        "! pip install nltk"
      ],
      "metadata": {
        "colab": {
          "base_uri": "https://localhost:8080/"
        },
        "id": "j6f8RsR0Zr4p",
        "outputId": "a6ae98eb-7832-4033-98a5-0b4543dd9a79"
      },
      "execution_count": 26,
      "outputs": [
        {
          "output_type": "stream",
          "name": "stdout",
          "text": [
            "Requirement already satisfied: nltk in /usr/local/lib/python3.7/dist-packages (3.2.5)\n",
            "Requirement already satisfied: six in /usr/local/lib/python3.7/dist-packages (from nltk) (1.15.0)\n"
          ]
        }
      ]
    },
    {
      "cell_type": "code",
      "source": [
        "import nltk\n",
        "nltk.download('vader_lexicon')"
      ],
      "metadata": {
        "colab": {
          "base_uri": "https://localhost:8080/"
        },
        "id": "ErmYIQxfZ0dZ",
        "outputId": "987db8cc-0132-4b9d-96df-b26d3f5ba5ca"
      },
      "execution_count": 27,
      "outputs": [
        {
          "output_type": "stream",
          "name": "stdout",
          "text": [
            "[nltk_data] Downloading package vader_lexicon to /root/nltk_data...\n"
          ]
        },
        {
          "output_type": "execute_result",
          "data": {
            "text/plain": [
              "True"
            ]
          },
          "metadata": {},
          "execution_count": 27
        }
      ]
    },
    {
      "cell_type": "code",
      "source": [
        "import pandas as pd\n",
        "import seaborn as sns\n",
        "import matplotlib.pyplot as plt\n",
        "from nltk.sentiment.vader import SentimentIntensityAnalyzer"
      ],
      "metadata": {
        "colab": {
          "base_uri": "https://localhost:8080/"
        },
        "id": "SDeDFp48Z08D",
        "outputId": "06bb2e02-1285-4ac0-ff1e-b5068f01c37f"
      },
      "execution_count": 28,
      "outputs": [
        {
          "output_type": "stream",
          "name": "stderr",
          "text": [
            "/usr/local/lib/python3.7/dist-packages/nltk/twitter/__init__.py:20: UserWarning: The twython library has not been installed. Some functionality from the twitter package will not be available.\n",
            "  warnings.warn(\"The twython library has not been installed. \"\n"
          ]
        }
      ]
    },
    {
      "cell_type": "markdown",
      "source": [
        "#### Preliminary data exploration"
      ],
      "metadata": {
        "id": "bE5Q00uCZ5Kg"
      }
    },
    {
      "cell_type": "code",
      "source": [
        "sentiments = SentimentIntensityAnalyzer()"
      ],
      "metadata": {
        "id": "j6ZL4gfBZ3Z6"
      },
      "execution_count": 29,
      "outputs": []
    },
    {
      "cell_type": "code",
      "source": [
        "data = df"
      ],
      "metadata": {
        "id": "OHSnOGlxaH5b"
      },
      "execution_count": 30,
      "outputs": []
    },
    {
      "cell_type": "code",
      "source": [
        "data.head()"
      ],
      "metadata": {
        "colab": {
          "base_uri": "https://localhost:8080/",
          "height": 206
        },
        "id": "9ToXRmKjaLNO",
        "outputId": "d94e7c81-a25b-4f42-c05b-e970ec5a7be4"
      },
      "execution_count": 31,
      "outputs": [
        {
          "output_type": "execute_result",
          "data": {
            "text/plain": [
              "                                             product  \\\n",
              "0   Philips Daily Collection ‎HD2581/90 Tostapane...   \n",
              "1   Philips Daily Collection ‎HD2581/90 Tostapane...   \n",
              "2   Philips Daily Collection ‎HD2581/90 Tostapane...   \n",
              "3   Philips Daily Collection ‎HD2581/90 Tostapane...   \n",
              "4   Philips Daily Collection ‎HD2581/90 Tostapane...   \n",
              "\n",
              "                            title  rating             data  \\\n",
              "0                    Soddisfatto!     4.0   12 agosto 2019   \n",
              "1          Bello ma non da toast!     3.0  8 dicembre 2021   \n",
              "2                    Meraviglioso     5.0  7 febbraio 2022   \n",
              "3  Ottimo rapporto qualità/prezzo     5.0  26 gennaio 2022   \n",
              "4                   Mai più senza     5.0  12 ottobre 2021   \n",
              "\n",
              "                                                body  \n",
              "0  Il tostapane si comporta come deve. Le fette v...  \n",
              "1  Nel complesso funziona bene ma fare toast è im...  \n",
              "2  Non avevo mai avuto un tostapane, è la svolta,...  \n",
              "3  Funziona molto bene per tostare fette di pane ...  \n",
              "4  Prodotto conforme alla descrizione.Spedizione ...  "
            ],
            "text/html": [
              "\n",
              "  <div id=\"df-3d2f6d67-fe90-48dd-a5f5-c3e1ab0f4c98\">\n",
              "    <div class=\"colab-df-container\">\n",
              "      <div>\n",
              "<style scoped>\n",
              "    .dataframe tbody tr th:only-of-type {\n",
              "        vertical-align: middle;\n",
              "    }\n",
              "\n",
              "    .dataframe tbody tr th {\n",
              "        vertical-align: top;\n",
              "    }\n",
              "\n",
              "    .dataframe thead th {\n",
              "        text-align: right;\n",
              "    }\n",
              "</style>\n",
              "<table border=\"1\" class=\"dataframe\">\n",
              "  <thead>\n",
              "    <tr style=\"text-align: right;\">\n",
              "      <th></th>\n",
              "      <th>product</th>\n",
              "      <th>title</th>\n",
              "      <th>rating</th>\n",
              "      <th>data</th>\n",
              "      <th>body</th>\n",
              "    </tr>\n",
              "  </thead>\n",
              "  <tbody>\n",
              "    <tr>\n",
              "      <th>0</th>\n",
              "      <td>Philips Daily Collection ‎HD2581/90 Tostapane...</td>\n",
              "      <td>Soddisfatto!</td>\n",
              "      <td>4.0</td>\n",
              "      <td>12 agosto 2019</td>\n",
              "      <td>Il tostapane si comporta come deve. Le fette v...</td>\n",
              "    </tr>\n",
              "    <tr>\n",
              "      <th>1</th>\n",
              "      <td>Philips Daily Collection ‎HD2581/90 Tostapane...</td>\n",
              "      <td>Bello ma non da toast!</td>\n",
              "      <td>3.0</td>\n",
              "      <td>8 dicembre 2021</td>\n",
              "      <td>Nel complesso funziona bene ma fare toast è im...</td>\n",
              "    </tr>\n",
              "    <tr>\n",
              "      <th>2</th>\n",
              "      <td>Philips Daily Collection ‎HD2581/90 Tostapane...</td>\n",
              "      <td>Meraviglioso</td>\n",
              "      <td>5.0</td>\n",
              "      <td>7 febbraio 2022</td>\n",
              "      <td>Non avevo mai avuto un tostapane, è la svolta,...</td>\n",
              "    </tr>\n",
              "    <tr>\n",
              "      <th>3</th>\n",
              "      <td>Philips Daily Collection ‎HD2581/90 Tostapane...</td>\n",
              "      <td>Ottimo rapporto qualità/prezzo</td>\n",
              "      <td>5.0</td>\n",
              "      <td>26 gennaio 2022</td>\n",
              "      <td>Funziona molto bene per tostare fette di pane ...</td>\n",
              "    </tr>\n",
              "    <tr>\n",
              "      <th>4</th>\n",
              "      <td>Philips Daily Collection ‎HD2581/90 Tostapane...</td>\n",
              "      <td>Mai più senza</td>\n",
              "      <td>5.0</td>\n",
              "      <td>12 ottobre 2021</td>\n",
              "      <td>Prodotto conforme alla descrizione.Spedizione ...</td>\n",
              "    </tr>\n",
              "  </tbody>\n",
              "</table>\n",
              "</div>\n",
              "      <button class=\"colab-df-convert\" onclick=\"convertToInteractive('df-3d2f6d67-fe90-48dd-a5f5-c3e1ab0f4c98')\"\n",
              "              title=\"Convert this dataframe to an interactive table.\"\n",
              "              style=\"display:none;\">\n",
              "        \n",
              "  <svg xmlns=\"http://www.w3.org/2000/svg\" height=\"24px\"viewBox=\"0 0 24 24\"\n",
              "       width=\"24px\">\n",
              "    <path d=\"M0 0h24v24H0V0z\" fill=\"none\"/>\n",
              "    <path d=\"M18.56 5.44l.94 2.06.94-2.06 2.06-.94-2.06-.94-.94-2.06-.94 2.06-2.06.94zm-11 1L8.5 8.5l.94-2.06 2.06-.94-2.06-.94L8.5 2.5l-.94 2.06-2.06.94zm10 10l.94 2.06.94-2.06 2.06-.94-2.06-.94-.94-2.06-.94 2.06-2.06.94z\"/><path d=\"M17.41 7.96l-1.37-1.37c-.4-.4-.92-.59-1.43-.59-.52 0-1.04.2-1.43.59L10.3 9.45l-7.72 7.72c-.78.78-.78 2.05 0 2.83L4 21.41c.39.39.9.59 1.41.59.51 0 1.02-.2 1.41-.59l7.78-7.78 2.81-2.81c.8-.78.8-2.07 0-2.86zM5.41 20L4 18.59l7.72-7.72 1.47 1.35L5.41 20z\"/>\n",
              "  </svg>\n",
              "      </button>\n",
              "      \n",
              "  <style>\n",
              "    .colab-df-container {\n",
              "      display:flex;\n",
              "      flex-wrap:wrap;\n",
              "      gap: 12px;\n",
              "    }\n",
              "\n",
              "    .colab-df-convert {\n",
              "      background-color: #E8F0FE;\n",
              "      border: none;\n",
              "      border-radius: 50%;\n",
              "      cursor: pointer;\n",
              "      display: none;\n",
              "      fill: #1967D2;\n",
              "      height: 32px;\n",
              "      padding: 0 0 0 0;\n",
              "      width: 32px;\n",
              "    }\n",
              "\n",
              "    .colab-df-convert:hover {\n",
              "      background-color: #E2EBFA;\n",
              "      box-shadow: 0px 1px 2px rgba(60, 64, 67, 0.3), 0px 1px 3px 1px rgba(60, 64, 67, 0.15);\n",
              "      fill: #174EA6;\n",
              "    }\n",
              "\n",
              "    [theme=dark] .colab-df-convert {\n",
              "      background-color: #3B4455;\n",
              "      fill: #D2E3FC;\n",
              "    }\n",
              "\n",
              "    [theme=dark] .colab-df-convert:hover {\n",
              "      background-color: #434B5C;\n",
              "      box-shadow: 0px 1px 3px 1px rgba(0, 0, 0, 0.15);\n",
              "      filter: drop-shadow(0px 1px 2px rgba(0, 0, 0, 0.3));\n",
              "      fill: #FFFFFF;\n",
              "    }\n",
              "  </style>\n",
              "\n",
              "      <script>\n",
              "        const buttonEl =\n",
              "          document.querySelector('#df-3d2f6d67-fe90-48dd-a5f5-c3e1ab0f4c98 button.colab-df-convert');\n",
              "        buttonEl.style.display =\n",
              "          google.colab.kernel.accessAllowed ? 'block' : 'none';\n",
              "\n",
              "        async function convertToInteractive(key) {\n",
              "          const element = document.querySelector('#df-3d2f6d67-fe90-48dd-a5f5-c3e1ab0f4c98');\n",
              "          const dataTable =\n",
              "            await google.colab.kernel.invokeFunction('convertToInteractive',\n",
              "                                                     [key], {});\n",
              "          if (!dataTable) return;\n",
              "\n",
              "          const docLinkHtml = 'Like what you see? Visit the ' +\n",
              "            '<a target=\"_blank\" href=https://colab.research.google.com/notebooks/data_table.ipynb>data table notebook</a>'\n",
              "            + ' to learn more about interactive tables.';\n",
              "          element.innerHTML = '';\n",
              "          dataTable['output_type'] = 'display_data';\n",
              "          await google.colab.output.renderOutput(dataTable, element);\n",
              "          const docLink = document.createElement('div');\n",
              "          docLink.innerHTML = docLinkHtml;\n",
              "          element.appendChild(docLink);\n",
              "        }\n",
              "      </script>\n",
              "    </div>\n",
              "  </div>\n",
              "  "
            ]
          },
          "metadata": {},
          "execution_count": 31
        }
      ]
    },
    {
      "cell_type": "code",
      "source": [
        "print(data.describe())"
      ],
      "metadata": {
        "colab": {
          "base_uri": "https://localhost:8080/"
        },
        "id": "r8X7rRhYaLuW",
        "outputId": "cf48d0f6-2495-4a2f-c37d-5d18d5b403ab"
      },
      "execution_count": 32,
      "outputs": [
        {
          "output_type": "stream",
          "name": "stdout",
          "text": [
            "          rating\n",
            "count  30.000000\n",
            "mean    4.200000\n",
            "std     1.214851\n",
            "min     1.000000\n",
            "25%     4.000000\n",
            "50%     5.000000\n",
            "75%     5.000000\n",
            "max     5.000000\n"
          ]
        }
      ]
    },
    {
      "cell_type": "code",
      "source": [
        "# This is not the case but it is always a good practice to check for nas and drop them\n",
        "data.dropna(inplace = True)"
      ],
      "metadata": {
        "id": "RCu7A9D4aN5c"
      },
      "execution_count": 33,
      "outputs": []
    },
    {
      "cell_type": "markdown",
      "source": [
        "The Score column of this dataset contains the ratings that customers have given to the product based on their experience with the product. So let’s take a look at the rating breakdown to see how most customers rate the products they buy from Amazon:"
      ],
      "metadata": {
        "id": "aJhaqqpYaTzH"
      }
    },
    {
      "cell_type": "code",
      "source": [
        "ratings = data['rating'].value_counts()"
      ],
      "metadata": {
        "id": "MGeHDW6UaP4j"
      },
      "execution_count": 34,
      "outputs": []
    },
    {
      "cell_type": "code",
      "source": [
        "ratings"
      ],
      "metadata": {
        "colab": {
          "base_uri": "https://localhost:8080/"
        },
        "id": "7iDJDZGiaRiV",
        "outputId": "fb85ab73-3d40-411c-a989-67fac2eb99c8"
      },
      "execution_count": 35,
      "outputs": [
        {
          "output_type": "execute_result",
          "data": {
            "text/plain": [
              "5.0    18\n",
              "4.0     5\n",
              "3.0     4\n",
              "1.0     2\n",
              "2.0     1\n",
              "Name: rating, dtype: int64"
            ]
          },
          "metadata": {},
          "execution_count": 35
        }
      ]
    },
    {
      "cell_type": "code",
      "source": [
        "numbers = ratings.index\n",
        "quantity = ratings.values\n",
        "\n",
        "custom_colors = [\"skyblue\", \"yellowgreen\", 'tomato', \"blue\", \"red\"]\n",
        "plt.figure(figsize=(10, 8))\n",
        "plt.pie(quantity, labels=numbers, colors=custom_colors)\n",
        "central_circle = plt.Circle((0, 0), 0.5, color='white')\n",
        "#central_circle = plt.Circle((0, 0), 0.5, color='black')\n",
        "fig = plt.gcf()\n",
        "fig.gca().add_artist(central_circle)\n",
        "plt.rc('font', size=12)\n",
        "title_obj = plt.title(\"Distribution of Amazon Product Ratings\", fontsize=20)\n",
        "#plt.setp(title_obj, color='white')\n",
        "plt.show()"
      ],
      "metadata": {
        "colab": {
          "base_uri": "https://localhost:8080/",
          "height": 487
        },
        "id": "wRlV54BNaZ_4",
        "outputId": "18dcc3aa-0543-4ed1-b725-75fa7c284f39"
      },
      "execution_count": 36,
      "outputs": [
        {
          "output_type": "display_data",
          "data": {
            "text/plain": [
              "<Figure size 720x576 with 1 Axes>"
            ],
            "image/png": "[encoded data removed]"
          },
          "metadata": {}
        }
      ]
    },
    {
      "cell_type": "markdown",
      "source": [
        "#### Sentiment analysis"
      ],
      "metadata": {
        "id": "YRE3Us0tai8L"
      }
    },
    {
      "cell_type": "markdown",
      "source": [
        "According to the figure above, more than half of people rated products they bought from Amazon with 5 stars, which is good. Now, I’m going to add three more columns to this dataset as Positive, Negative, and Neutral by calculating the sentiment scores of the customer reviews mentioned in the Text column of the dataset:"
      ],
      "metadata": {
        "id": "rwTvgOj4agO_"
      }
    },
    {
      "cell_type": "code",
      "source": [
        "sentiments = SentimentIntensityAnalyzer()\n",
        "data[\"Positive\"] = [sentiments.polarity_scores(i)[\"pos\"] for i in data[\"body\"]]\n",
        "data[\"Negative\"] = [sentiments.polarity_scores(i)[\"neg\"] for i in data[\"body\"]]\n",
        "data[\"Neutral\"] = [sentiments.polarity_scores(i)[\"neu\"] for i in data[\"body\"]]\n",
        "print(data.head())"
      ],
      "metadata": {
        "colab": {
          "base_uri": "https://localhost:8080/"
        },
        "id": "lpUYpNbVacSL",
        "outputId": "df4465ec-eb6b-4d37-93d9-e5d16e69e568"
      },
      "execution_count": 37,
      "outputs": [
        {
          "output_type": "stream",
          "name": "stdout",
          "text": [
            "                                             product  \\\n",
            "0   Philips Daily Collection ‎HD2581/90 Tostapane...   \n",
            "1   Philips Daily Collection ‎HD2581/90 Tostapane...   \n",
            "2   Philips Daily Collection ‎HD2581/90 Tostapane...   \n",
            "3   Philips Daily Collection ‎HD2581/90 Tostapane...   \n",
            "4   Philips Daily Collection ‎HD2581/90 Tostapane...   \n",
            "\n",
            "                            title  rating             data  \\\n",
            "0                    Soddisfatto!     4.0   12 agosto 2019   \n",
            "1          Bello ma non da toast!     3.0  8 dicembre 2021   \n",
            "2                    Meraviglioso     5.0  7 febbraio 2022   \n",
            "3  Ottimo rapporto qualità/prezzo     5.0  26 gennaio 2022   \n",
            "4                   Mai più senza     5.0  12 ottobre 2021   \n",
            "\n",
            "                                                body  Positive  Negative  \\\n",
            "0  Il tostapane si comporta come deve. Le fette v...     0.027     0.035   \n",
            "1  Nel complesso funziona bene ma fare toast è im...     0.000     0.000   \n",
            "2  Non avevo mai avuto un tostapane, è la svolta,...     0.000     0.000   \n",
            "3  Funziona molto bene per tostare fette di pane ...     0.000     0.000   \n",
            "4  Prodotto conforme alla descrizione.Spedizione ...     0.000     0.000   \n",
            "\n",
            "   Neutral  \n",
            "0    0.938  \n",
            "1    1.000  \n",
            "2    1.000  \n",
            "3    1.000  \n",
            "4    1.000  \n"
          ]
        }
      ]
    },
    {
      "cell_type": "markdown",
      "source": [
        "Now let’s see how most people rated the products they bought from Amazon:"
      ],
      "metadata": {
        "id": "RFPzxKqAaqZD"
      }
    },
    {
      "cell_type": "code",
      "source": [
        "x = sum(data[\"Positive\"])\n",
        "y = sum(data[\"Negative\"])\n",
        "z = sum(data[\"Neutral\"])\n",
        "\n",
        "def sentiment_score(a, b, c):\n",
        "    if (a>b) and (a>c):\n",
        "        print(\"Positive 😊 \")\n",
        "    elif (b>a) and (b>c):\n",
        "        print(\"Negative 😠 \")\n",
        "    else:\n",
        "        print(\"Neutral 🙂 \")\n",
        "sentiment_score(x, y, z)"
      ],
      "metadata": {
        "colab": {
          "base_uri": "https://localhost:8080/"
        },
        "id": "f31GQcupamQG",
        "outputId": "f86476de-7cf3-4589-cbe5-81b80466c196"
      },
      "execution_count": 38,
      "outputs": [
        {
          "output_type": "stream",
          "name": "stdout",
          "text": [
            "Neutral 🙂 \n"
          ]
        }
      ]
    },
    {
      "cell_type": "markdown",
      "source": [
        "So, most people are neutral when submitting their experiences with the products they have purchased from Amazon. Now let’s see the total of all sentiment scores:"
      ],
      "metadata": {
        "id": "2P_Ji08Ha7wN"
      }
    },
    {
      "cell_type": "code",
      "source": [
        "print(\"Positive: \", x)\n",
        "print(\"Negative: \", y)\n",
        "print(\"Neutral: \", z)"
      ],
      "metadata": {
        "colab": {
          "base_uri": "https://localhost:8080/"
        },
        "id": "mmPfaXpUa8Ug",
        "outputId": "52a8115a-9280-499c-fb7c-ab656afff72b"
      },
      "execution_count": 39,
      "outputs": [
        {
          "output_type": "stream",
          "name": "stdout",
          "text": [
            "Positive:  0.328\n",
            "Negative:  0.353\n",
            "Neutral:  29.319\n"
          ]
        }
      ]
    },
    {
      "cell_type": "markdown",
      "source": [
        "Almost any review is classified as neutral.\n",
        "From a bussines pov, this is not very useful becasue it is difficult to understand if people really like the product or not. However, this result can also be interpreted differently. A toaster is typically a cheap product, it is used quite frequently in the daily life and it satisfies a quite easy task (tosting bread). Thus, it is possible to hypothesize that even the nature of the product affects the results. A toaster is not that exciting. On the other hand, books' reviews are extremely personal and they allow to customers to express easily and better their 'feeling' while writing their reviews."
      ],
      "metadata": {
        "id": "lZE5_UELbEku"
      }
    },
    {
      "cell_type": "markdown",
      "source": [
        "### 2nd Approach"
      ],
      "metadata": {
        "id": "g4zlcSAOcPvW"
      }
    },
    {
      "cell_type": "markdown",
      "source": [
        "In this second analysis a different approach will be used: classify bad and good reviews.\n",
        "Ratings typically go from 1 to 5. Hence, 3 is a middle value value which can be considered neither good nor bad. Just average. So, aveerage reviews can be dropped out."
      ],
      "metadata": {
        "id": "S0OXuCsQcaDf"
      }
    },
    {
      "cell_type": "code",
      "source": [
        "data = df"
      ],
      "metadata": {
        "id": "pKo4UJmvcUbu"
      },
      "execution_count": 40,
      "outputs": []
    },
    {
      "cell_type": "code",
      "source": [
        "data = data[data['rating'] != 3]"
      ],
      "metadata": {
        "id": "QstR_dAPcd7W"
      },
      "execution_count": 41,
      "outputs": []
    },
    {
      "cell_type": "markdown",
      "source": [
        "Now it is possible to assign a label (a class) to each observation according to the rating. Positive sentiments will be denoted as 1 and negative as 0."
      ],
      "metadata": {
        "id": "Sd1BMJ5gcju3"
      }
    },
    {
      "cell_type": "code",
      "source": [
        "def sentiment(n):\n",
        "    return 1 if n >= 4 else 0"
      ],
      "metadata": {
        "id": "W_5KgCiRchxj"
      },
      "execution_count": 42,
      "outputs": []
    },
    {
      "cell_type": "code",
      "source": [
        "data['sentiment'] = data['rating'].apply(sentiment)"
      ],
      "metadata": {
        "colab": {
          "base_uri": "https://localhost:8080/"
        },
        "id": "Vg4aMcqzclx4",
        "outputId": "cbf0adb5-4fb0-4edb-c40f-e09fbdf58804"
      },
      "execution_count": 43,
      "outputs": [
        {
          "output_type": "stream",
          "name": "stderr",
          "text": [
            "/usr/local/lib/python3.7/dist-packages/ipykernel_launcher.py:1: SettingWithCopyWarning: \n",
            "A value is trying to be set on a copy of a slice from a DataFrame.\n",
            "Try using .loc[row_indexer,col_indexer] = value instead\n",
            "\n",
            "See the caveats in the documentation: https://pandas.pydata.org/pandas-docs/stable/user_guide/indexing.html#returning-a-view-versus-a-copy\n",
            "  \"\"\"Entry point for launching an IPython kernel.\n"
          ]
        }
      ]
    },
    {
      "cell_type": "code",
      "source": [
        "data.head()"
      ],
      "metadata": {
        "colab": {
          "base_uri": "https://localhost:8080/",
          "height": 206
        },
        "id": "GTQfpEepcoOx",
        "outputId": "20e337c6-f0e9-4b29-ac29-e6ba1b964913"
      },
      "execution_count": 44,
      "outputs": [
        {
          "output_type": "execute_result",
          "data": {
            "text/plain": [
              "                                             product  \\\n",
              "0   Philips Daily Collection ‎HD2581/90 Tostapane...   \n",
              "2   Philips Daily Collection ‎HD2581/90 Tostapane...   \n",
              "3   Philips Daily Collection ‎HD2581/90 Tostapane...   \n",
              "4   Philips Daily Collection ‎HD2581/90 Tostapane...   \n",
              "5   Philips Daily Collection ‎HD2581/90 Tostapane...   \n",
              "\n",
              "                            title  rating              data  \\\n",
              "0                    Soddisfatto!     4.0    12 agosto 2019   \n",
              "2                    Meraviglioso     5.0   7 febbraio 2022   \n",
              "3  Ottimo rapporto qualità/prezzo     5.0   26 gennaio 2022   \n",
              "4                   Mai più senza     5.0   12 ottobre 2021   \n",
              "5                        Perfetto     5.0  28 dicembre 2021   \n",
              "\n",
              "                                                body  Positive  Negative  \\\n",
              "0  Il tostapane si comporta come deve. Le fette v...     0.027     0.035   \n",
              "2  Non avevo mai avuto un tostapane, è la svolta,...     0.000     0.000   \n",
              "3  Funziona molto bene per tostare fette di pane ...     0.000     0.000   \n",
              "4  Prodotto conforme alla descrizione.Spedizione ...     0.000     0.000   \n",
              "5  Tostapane eccellente. 8 livelli di potenza. Sc...     0.085     0.000   \n",
              "\n",
              "   Neutral  sentiment  \n",
              "0    0.938          1  \n",
              "2    1.000          1  \n",
              "3    1.000          1  \n",
              "4    1.000          1  \n",
              "5    0.915          1  "
            ],
            "text/html": [
              "\n",
              "  <div id=\"df-2485ea5e-734b-4a17-865e-fb69b052eb36\">\n",
              "    <div class=\"colab-df-container\">\n",
              "      <div>\n",
              "<style scoped>\n",
              "    .dataframe tbody tr th:only-of-type {\n",
              "        vertical-align: middle;\n",
              "    }\n",
              "\n",
              "    .dataframe tbody tr th {\n",
              "        vertical-align: top;\n",
              "    }\n",
              "\n",
              "    .dataframe thead th {\n",
              "        text-align: right;\n",
              "    }\n",
              "</style>\n",
              "<table border=\"1\" class=\"dataframe\">\n",
              "  <thead>\n",
              "    <tr style=\"text-align: right;\">\n",
              "      <th></th>\n",
              "      <th>product</th>\n",
              "      <th>title</th>\n",
              "      <th>rating</th>\n",
              "      <th>data</th>\n",
              "      <th>body</th>\n",
              "      <th>Positive</th>\n",
              "      <th>Negative</th>\n",
              "      <th>Neutral</th>\n",
              "      <th>sentiment</th>\n",
              "    </tr>\n",
              "  </thead>\n",
              "  <tbody>\n",
              "    <tr>\n",
              "      <th>0</th>\n",
              "      <td>Philips Daily Collection ‎HD2581/90 Tostapane...</td>\n",
              "      <td>Soddisfatto!</td>\n",
              "      <td>4.0</td>\n",
              "      <td>12 agosto 2019</td>\n",
              "      <td>Il tostapane si comporta come deve. Le fette v...</td>\n",
              "      <td>0.027</td>\n",
              "      <td>0.035</td>\n",
              "      <td>0.938</td>\n",
              "      <td>1</td>\n",
              "    </tr>\n",
              "    <tr>\n",
              "      <th>2</th>\n",
              "      <td>Philips Daily Collection ‎HD2581/90 Tostapane...</td>\n",
              "      <td>Meraviglioso</td>\n",
              "      <td>5.0</td>\n",
              "      <td>7 febbraio 2022</td>\n",
              "      <td>Non avevo mai avuto un tostapane, è la svolta,...</td>\n",
              "      <td>0.000</td>\n",
              "      <td>0.000</td>\n",
              "      <td>1.000</td>\n",
              "      <td>1</td>\n",
              "    </tr>\n",
              "    <tr>\n",
              "      <th>3</th>\n",
              "      <td>Philips Daily Collection ‎HD2581/90 Tostapane...</td>\n",
              "      <td>Ottimo rapporto qualità/prezzo</td>\n",
              "      <td>5.0</td>\n",
              "      <td>26 gennaio 2022</td>\n",
              "      <td>Funziona molto bene per tostare fette di pane ...</td>\n",
              "      <td>0.000</td>\n",
              "      <td>0.000</td>\n",
              "      <td>1.000</td>\n",
              "      <td>1</td>\n",
              "    </tr>\n",
              "    <tr>\n",
              "      <th>4</th>\n",
              "      <td>Philips Daily Collection ‎HD2581/90 Tostapane...</td>\n",
              "      <td>Mai più senza</td>\n",
              "      <td>5.0</td>\n",
              "      <td>12 ottobre 2021</td>\n",
              "      <td>Prodotto conforme alla descrizione.Spedizione ...</td>\n",
              "      <td>0.000</td>\n",
              "      <td>0.000</td>\n",
              "      <td>1.000</td>\n",
              "      <td>1</td>\n",
              "    </tr>\n",
              "    <tr>\n",
              "      <th>5</th>\n",
              "      <td>Philips Daily Collection ‎HD2581/90 Tostapane...</td>\n",
              "      <td>Perfetto</td>\n",
              "      <td>5.0</td>\n",
              "      <td>28 dicembre 2021</td>\n",
              "      <td>Tostapane eccellente. 8 livelli di potenza. Sc...</td>\n",
              "      <td>0.085</td>\n",
              "      <td>0.000</td>\n",
              "      <td>0.915</td>\n",
              "      <td>1</td>\n",
              "    </tr>\n",
              "  </tbody>\n",
              "</table>\n",
              "</div>\n",
              "      <button class=\"colab-df-convert\" onclick=\"convertToInteractive('df-2485ea5e-734b-4a17-865e-fb69b052eb36')\"\n",
              "              title=\"Convert this dataframe to an interactive table.\"\n",
              "              style=\"display:none;\">\n",
              "        \n",
              "  <svg xmlns=\"http://www.w3.org/2000/svg\" height=\"24px\"viewBox=\"0 0 24 24\"\n",
              "       width=\"24px\">\n",
              "    <path d=\"M0 0h24v24H0V0z\" fill=\"none\"/>\n",
              "    <path d=\"M18.56 5.44l.94 2.06.94-2.06 2.06-.94-2.06-.94-.94-2.06-.94 2.06-2.06.94zm-11 1L8.5 8.5l.94-2.06 2.06-.94-2.06-.94L8.5 2.5l-.94 2.06-2.06.94zm10 10l.94 2.06.94-2.06 2.06-.94-2.06-.94-.94-2.06-.94 2.06-2.06.94z\"/><path d=\"M17.41 7.96l-1.37-1.37c-.4-.4-.92-.59-1.43-.59-.52 0-1.04.2-1.43.59L10.3 9.45l-7.72 7.72c-.78.78-.78 2.05 0 2.83L4 21.41c.39.39.9.59 1.41.59.51 0 1.02-.2 1.41-.59l7.78-7.78 2.81-2.81c.8-.78.8-2.07 0-2.86zM5.41 20L4 18.59l7.72-7.72 1.47 1.35L5.41 20z\"/>\n",
              "  </svg>\n",
              "      </button>\n",
              "      \n",
              "  <style>\n",
              "    .colab-df-container {\n",
              "      display:flex;\n",
              "      flex-wrap:wrap;\n",
              "      gap: 12px;\n",
              "    }\n",
              "\n",
              "    .colab-df-convert {\n",
              "      background-color: #E8F0FE;\n",
              "      border: none;\n",
              "      border-radius: 50%;\n",
              "      cursor: pointer;\n",
              "      display: none;\n",
              "      fill: #1967D2;\n",
              "      height: 32px;\n",
              "      padding: 0 0 0 0;\n",
              "      width: 32px;\n",
              "    }\n",
              "\n",
              "    .colab-df-convert:hover {\n",
              "      background-color: #E2EBFA;\n",
              "      box-shadow: 0px 1px 2px rgba(60, 64, 67, 0.3), 0px 1px 3px 1px rgba(60, 64, 67, 0.15);\n",
              "      fill: #174EA6;\n",
              "    }\n",
              "\n",
              "    [theme=dark] .colab-df-convert {\n",
              "      background-color: #3B4455;\n",
              "      fill: #D2E3FC;\n",
              "    }\n",
              "\n",
              "    [theme=dark] .colab-df-convert:hover {\n",
              "      background-color: #434B5C;\n",
              "      box-shadow: 0px 1px 3px 1px rgba(0, 0, 0, 0.15);\n",
              "      filter: drop-shadow(0px 1px 2px rgba(0, 0, 0, 0.3));\n",
              "      fill: #FFFFFF;\n",
              "    }\n",
              "  </style>\n",
              "\n",
              "      <script>\n",
              "        const buttonEl =\n",
              "          document.querySelector('#df-2485ea5e-734b-4a17-865e-fb69b052eb36 button.colab-df-convert');\n",
              "        buttonEl.style.display =\n",
              "          google.colab.kernel.accessAllowed ? 'block' : 'none';\n",
              "\n",
              "        async function convertToInteractive(key) {\n",
              "          const element = document.querySelector('#df-2485ea5e-734b-4a17-865e-fb69b052eb36');\n",
              "          const dataTable =\n",
              "            await google.colab.kernel.invokeFunction('convertToInteractive',\n",
              "                                                     [key], {});\n",
              "          if (!dataTable) return;\n",
              "\n",
              "          const docLinkHtml = 'Like what you see? Visit the ' +\n",
              "            '<a target=\"_blank\" href=https://colab.research.google.com/notebooks/data_table.ipynb>data table notebook</a>'\n",
              "            + ' to learn more about interactive tables.';\n",
              "          element.innerHTML = '';\n",
              "          dataTable['output_type'] = 'display_data';\n",
              "          await google.colab.output.renderOutput(dataTable, element);\n",
              "          const docLink = document.createElement('div');\n",
              "          docLink.innerHTML = docLinkHtml;\n",
              "          element.appendChild(docLink);\n",
              "        }\n",
              "      </script>\n",
              "    </div>\n",
              "  </div>\n",
              "  "
            ]
          },
          "metadata": {},
          "execution_count": 44
        }
      ]
    },
    {
      "cell_type": "markdown",
      "source": [
        "#### Train the sentiment classifier"
      ],
      "metadata": {
        "id": "ELAUGNsJctOl"
      }
    },
    {
      "cell_type": "code",
      "source": [
        "X = data['body']\n",
        "y = data['sentiment']"
      ],
      "metadata": {
        "id": "YdoHMds2cvhv"
      },
      "execution_count": 45,
      "outputs": []
    },
    {
      "cell_type": "code",
      "source": [
        "from sklearn.model_selection import train_test_split"
      ],
      "metadata": {
        "id": "U28NKJT_czDx"
      },
      "execution_count": 46,
      "outputs": []
    },
    {
      "cell_type": "code",
      "source": [
        "X_train, X_test, y_train, y_test = train_test_split(X, y, random_state=0)"
      ],
      "metadata": {
        "id": "WE2miIzec0js"
      },
      "execution_count": 47,
      "outputs": []
    },
    {
      "cell_type": "markdown",
      "source": [
        "CountVectorizer develops a vector of all the words in the string. Import \n",
        "<br>\n",
        "CountVectorizer and fit both training, testing data into it.\n",
        "\n"
      ],
      "metadata": {
        "id": "HkIpXBnWc5zH"
      }
    },
    {
      "cell_type": "code",
      "source": [
        "from sklearn.feature_extraction.text import CountVectorizer\n",
        "cv = CountVectorizer()\n",
        "ctmTr = cv.fit_transform(X_train)\n",
        "X_test_dtm = cv.transform(X_test)"
      ],
      "metadata": {
        "id": "wlLtggH0c2GP"
      },
      "execution_count": 48,
      "outputs": []
    },
    {
      "cell_type": "markdown",
      "source": [
        "Now, Logistic Regression will be used as a binary classifier to fit the training data in the model."
      ],
      "metadata": {
        "id": "qMF81ie8dBOH"
      }
    },
    {
      "cell_type": "code",
      "source": [
        "from sklearn.linear_model import LogisticRegression\n",
        "from sklearn.metrics import accuracy_score\n",
        "model = LogisticRegression()\n",
        "model.fit(ctmTr, y_train)"
      ],
      "metadata": {
        "colab": {
          "base_uri": "https://localhost:8080/"
        },
        "id": "Bavq40Xwc-7o",
        "outputId": "6b8d15bc-266d-45e3-9cfa-33f99241b0b3"
      },
      "execution_count": 49,
      "outputs": [
        {
          "output_type": "execute_result",
          "data": {
            "text/plain": [
              "LogisticRegression()"
            ]
          },
          "metadata": {},
          "execution_count": 49
        }
      ]
    },
    {
      "cell_type": "code",
      "source": [
        "y_pred_class = model.predict(X_test_dtm)"
      ],
      "metadata": {
        "id": "wn3OHsGPdDhL"
      },
      "execution_count": 50,
      "outputs": []
    },
    {
      "cell_type": "code",
      "source": [
        "y_pred_class"
      ],
      "metadata": {
        "colab": {
          "base_uri": "https://localhost:8080/"
        },
        "id": "DPUv3ixidFYR",
        "outputId": "27f1bab1-d356-44b1-a7e9-99728c4722fa"
      },
      "execution_count": 51,
      "outputs": [
        {
          "output_type": "execute_result",
          "data": {
            "text/plain": [
              "array([1, 1, 1, 1, 1, 1, 1])"
            ]
          },
          "metadata": {},
          "execution_count": 51
        }
      ]
    },
    {
      "cell_type": "code",
      "source": [
        "accuracy_score(y_test, y_pred_class)"
      ],
      "metadata": {
        "colab": {
          "base_uri": "https://localhost:8080/"
        },
        "id": "vrYVHJRsdG7_",
        "outputId": "2278e020-a90e-45d5-8db2-a187a6fd3e63"
      },
      "execution_count": 52,
      "outputs": [
        {
          "output_type": "execute_result",
          "data": {
            "text/plain": [
              "0.7142857142857143"
            ]
          },
          "metadata": {},
          "execution_count": 52
        }
      ]
    },
    {
      "cell_type": "markdown",
      "source": [
        "### 3rd Approach"
      ],
      "metadata": {
        "id": "wBI6itC9dxvF"
      }
    },
    {
      "cell_type": "code",
      "source": [
        "! pip install stop-words"
      ],
      "metadata": {
        "colab": {
          "base_uri": "https://localhost:8080/"
        },
        "id": "OCXAyRmudzT6",
        "outputId": "0b351b7a-8961-4faf-bc4b-feb519c6b4b6"
      },
      "execution_count": 53,
      "outputs": [
        {
          "output_type": "stream",
          "name": "stdout",
          "text": [
            "Collecting stop-words\n",
            "  Downloading stop-words-2018.7.23.tar.gz (31 kB)\n",
            "Building wheels for collected packages: stop-words\n",
            "  Building wheel for stop-words (setup.py) ... \u001b[?25l\u001b[?25hdone\n",
            "  Created wheel for stop-words: filename=stop_words-2018.7.23-py3-none-any.whl size=32911 sha256=205bece3f7bdbb9e99649c233363d5a2602c07a97a93f1ad620fc7608d7e467d\n",
            "  Stored in directory: /root/.cache/pip/wheels/fb/86/b2/277b10b1ce9f73ce15059bf6975d4547cc4ec3feeb651978e9\n",
            "Successfully built stop-words\n",
            "Installing collected packages: stop-words\n",
            "Successfully installed stop-words-2018.7.23\n"
          ]
        }
      ]
    },
    {
      "cell_type": "code",
      "source": [
        "! pip install plotly"
      ],
      "metadata": {
        "colab": {
          "base_uri": "https://localhost:8080/"
        },
        "id": "a1uEtcc2eScA",
        "outputId": "c9edaf17-b288-4885-d8e8-e5c6eb7c37ab"
      },
      "execution_count": 54,
      "outputs": [
        {
          "output_type": "stream",
          "name": "stdout",
          "text": [
            "Requirement already satisfied: plotly in /usr/local/lib/python3.7/dist-packages (5.5.0)\n",
            "Requirement already satisfied: six in /usr/local/lib/python3.7/dist-packages (from plotly) (1.15.0)\n",
            "Requirement already satisfied: tenacity>=6.2.0 in /usr/local/lib/python3.7/dist-packages (from plotly) (8.0.1)\n"
          ]
        }
      ]
    },
    {
      "cell_type": "code",
      "source": [
        "import plotly.express as px \n",
        "import nltk \n",
        "from nltk.corpus import stopwords\n",
        "from wordcloud import WordCloud, STOPWORDS\n",
        "from nltk.corpus import stopwords\n",
        "import matplotlib.pyplot as plt\n",
        "import seaborn as sns\n",
        "color = sns.color_palette()\n",
        "%matplotlib inline\n",
        "import plotly.offline as py\n",
        "py.init_notebook_mode(connected=True)\n",
        "import plotly.graph_objs as go\n",
        "import plotly.tools as tls\n",
        "import plotly.express as px\n",
        "import plotly.graph_objects as go"
      ],
      "metadata": {
        "colab": {
          "base_uri": "https://localhost:8080/",
          "height": 17
        },
        "id": "B8i3G9OIeL0C",
        "outputId": "cae3ccfc-1cab-4e33-b497-ebee3cbb41d6"
      },
      "execution_count": 56,
      "outputs": [
        {
          "output_type": "display_data",
          "data": {
            "text/html": [
              "        <script type=\"text/javascript\">\n",
              "        window.PlotlyConfig = {MathJaxConfig: 'local'};\n",
              "        if (window.MathJax) {MathJax.Hub.Config({SVG: {font: \"STIX-Web\"}});}\n",
              "        if (typeof require !== 'undefined') {\n",
              "        require.undef(\"plotly\");\n",
              "        requirejs.config({\n",
              "            paths: {\n",
              "                'plotly': ['https://cdn.plot.ly/plotly-2.8.3.min']\n",
              "            }\n",
              "        });\n",
              "        require(['plotly'], function(Plotly) {\n",
              "            window._Plotly = Plotly;\n",
              "        });\n",
              "        }\n",
              "        </script>\n",
              "        "
            ]
          },
          "metadata": {}
        }
      ]
    },
    {
      "cell_type": "code",
      "source": [
        "data = df "
      ],
      "metadata": {
        "id": "OwD53Xs_eUil"
      },
      "execution_count": 57,
      "outputs": []
    },
    {
      "cell_type": "code",
      "source": [
        "nltk.download('stopwords')"
      ],
      "metadata": {
        "colab": {
          "base_uri": "https://localhost:8080/"
        },
        "id": "aDeut3qneXdC",
        "outputId": "6c2b05a0-7298-40c5-9a34-48fad9fc79a2"
      },
      "execution_count": 58,
      "outputs": [
        {
          "output_type": "stream",
          "name": "stdout",
          "text": [
            "[nltk_data] Downloading package stopwords to /root/nltk_data...\n",
            "[nltk_data]   Unzipping corpora/stopwords.zip.\n"
          ]
        },
        {
          "output_type": "execute_result",
          "data": {
            "text/plain": [
              "True"
            ]
          },
          "metadata": {},
          "execution_count": 58
        }
      ]
    },
    {
      "cell_type": "code",
      "source": [
        "stop_words = stopwords.words('italian')\n",
        "\n",
        "for parola in [\"fette\", \"pane\",\"tostapane\",\"toast\", \"prodotto\", \"quindi\", \"c'è\", \"solo\", \"fa\", \"può\"]:\n",
        "  stop_words.append(parola)\n",
        "\n",
        "textt = \" \".join(review for review in data.body)\n",
        "wordcloud = WordCloud(stopwords=stop_words).generate(textt)\n",
        "plt.imshow(wordcloud, interpolation='bilinear')\n",
        "plt.axis(\"off\")\n",
        "plt.savefig('wordcloud11.png')\n",
        "plt.show()"
      ],
      "metadata": {
        "colab": {
          "base_uri": "https://localhost:8080/",
          "height": 198
        },
        "id": "4Pu0RQ-ueZIQ",
        "outputId": "9b674933-b23f-426c-e97a-22b882c62e4e"
      },
      "execution_count": 59,
      "outputs": [
        {
          "output_type": "display_data",
          "data": {
            "text/plain": [
              "<Figure size 432x288 with 1 Axes>"
            ],
            "image/png": "[encoded data removed]"
          },
          "metadata": {
            "needs_background": "light"
          }
        }
      ]
    },
    {
      "cell_type": "code",
      "source": [
        "data = data[data['rating'] != 3]\n",
        "data['sentiment'] = data['rating'].apply(lambda rating : +1 if rating > 3 else -1)"
      ],
      "metadata": {
        "colab": {
          "base_uri": "https://localhost:8080/"
        },
        "id": "5EKK2sjYebEd",
        "outputId": "d56ed8d9-31c2-4a90-d58d-33d1d44d9055"
      },
      "execution_count": 60,
      "outputs": [
        {
          "output_type": "stream",
          "name": "stderr",
          "text": [
            "/usr/local/lib/python3.7/dist-packages/ipykernel_launcher.py:2: SettingWithCopyWarning:\n",
            "\n",
            "\n",
            "A value is trying to be set on a copy of a slice from a DataFrame.\n",
            "Try using .loc[row_indexer,col_indexer] = value instead\n",
            "\n",
            "See the caveats in the documentation: https://pandas.pydata.org/pandas-docs/stable/user_guide/indexing.html#returning-a-view-versus-a-copy\n",
            "\n"
          ]
        }
      ]
    },
    {
      "cell_type": "code",
      "source": [
        "# split df - positive and negative sentiment:\n",
        "positive = data[data['sentiment'] == 1]\n",
        "negative = data[data['sentiment'] == -1]"
      ],
      "metadata": {
        "id": "BsX80O3DedZ_"
      },
      "execution_count": 61,
      "outputs": []
    },
    {
      "cell_type": "code",
      "source": [
        "stopwords = stop_words\n",
        "#stopwords.update([\"br\", \"href\",\"good\",\"great\"]) \n",
        "## good and great removed because they were included in negative sentiment\n",
        "pos = \" \".join(review for review in positive.body)\n",
        "wordcloud2 = WordCloud(stopwords=stopwords).generate(pos)\n",
        "plt.imshow(wordcloud2, interpolation='bilinear')\n",
        "plt.axis(\"off\")\n",
        "plt.show()"
      ],
      "metadata": {
        "colab": {
          "base_uri": "https://localhost:8080/",
          "height": 198
        },
        "id": "flJii8o_efFH",
        "outputId": "40d8d32f-2828-45a0-d61d-b3a7d8403ae5"
      },
      "execution_count": 62,
      "outputs": [
        {
          "output_type": "display_data",
          "data": {
            "text/plain": [
              "<Figure size 432x288 with 1 Axes>"
            ],
            "image/png": "[encoded data removed]"
          },
          "metadata": {
            "needs_background": "light"
          }
        }
      ]
    },
    {
      "cell_type": "code",
      "source": [
        "neg = \" \".join(review for review in negative.body)\n",
        "wordcloud3 = WordCloud(stopwords=stopwords).generate(neg)\n",
        "plt.imshow(wordcloud3, interpolation='bilinear')\n",
        "plt.axis(\"off\")\n",
        "plt.savefig('wordcloud33.png')\n",
        "plt.show()"
      ],
      "metadata": {
        "colab": {
          "base_uri": "https://localhost:8080/",
          "height": 198
        },
        "id": "c-WVLaXceglz",
        "outputId": "6e3400e0-5718-4d2c-bb60-8d956921a370"
      },
      "execution_count": 63,
      "outputs": [
        {
          "output_type": "display_data",
          "data": {
            "text/plain": [
              "<Figure size 432x288 with 1 Axes>"
            ],
            "image/png": "[encoded data removed]"
          },
          "metadata": {
            "needs_background": "light"
          }
        }
      ]
    }
  ]
}